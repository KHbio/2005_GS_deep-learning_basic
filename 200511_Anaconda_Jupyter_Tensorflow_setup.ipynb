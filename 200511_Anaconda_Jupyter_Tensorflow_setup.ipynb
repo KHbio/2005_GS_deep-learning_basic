{
 "cells": [
  {
   "cell_type": "markdown",
   "metadata": {},
   "source": [
    "## Jupyter 단축키\n",
    "Command Mode : press Esc to enable<br>\n",
    "shift-Enter : run cell, select below<br>\n",
    "Ctrl-Enter : run cell<br>\n",
    "Alt-Enter : run cell, insert below<br> \n",
    "Y : to code<br>\n",
    "M : to markdown<br>\n",
    "A : insert cell upper<br>\n",
    "B : insert cell below<br>\n",
    "X : cut selected cell<br>\n",
    "C : copy selected cell<br>\n",
    "Shift-V : paste cell above<br>\n",
    "V : paste cell below<br>\n",
    "Z : undo last cell deletion<br>\n",
    "D,D : delete selected cell<br>\n",
    "Shift-M : merge cell below<br>\n",
    "Edit Mode : press Enter to enable<br>\n",
    "Shift-Tab : 툴팁표시<br>\n",
    "Ctrl-] : indent\n",
    "Ctrl-Shift- : split cell"
   ]
  },
  {
   "cell_type": "markdown",
   "metadata": {},
   "source": [
    "## Anaconda\n",
    "1. Remove python aleady installed.\n",
    "2. Download and install anaconda. [[Anaconda_link]](https://www.anaconda.com/products/individual)\n",
    "3. Activation.<br>\n",
    "activate base (in CMD)\n",
    "4. Install tensorflow<br>\n",
    "conda install -c anaconda tensorflow\n",
    "5. Update conda packages<br>\n",
    "conda update --all"
   ]
  },
  {
   "cell_type": "markdown",
   "metadata": {},
   "source": [
    "## Import tensorflow\n",
    "Reference: [동빈나_파이썬 텐서플로우 & 머신러닝 기초 5강](https://www.youtube.com/watch?v=t4bc3F1gYtA&list=PLRx0vPvlEmdAbnmLH9yh03cw9UQU_o7PO&index=6&t=0s)"
   ]
  },
  {
   "cell_type": "code",
   "execution_count": 1,
   "metadata": {},
   "outputs": [
    {
     "name": "stdout",
     "output_type": "stream",
     "text": [
      "WARNING:tensorflow:From C:\\Python\\anaconda3\\lib\\site-packages\\tensorflow_core\\python\\compat\\v2_compat.py:88: disable_resource_variables (from tensorflow.python.ops.variable_scope) is deprecated and will be removed in a future version.\n",
      "Instructions for updating:\n",
      "non-resource variables are not supported in the long term\n"
     ]
    }
   ],
   "source": [
    "#import tensorflow as tf\n",
    "import tensorflow.compat.v1 as tf\n",
    "tf.disable_v2_behavior()"
   ]
  },
  {
   "cell_type": "code",
   "execution_count": 2,
   "metadata": {},
   "outputs": [
    {
     "name": "stdout",
     "output_type": "stream",
     "text": [
      "0 4611425300.0 [10336.728] [2108.2097]\n",
      "500 8688410.0 [25536.248] [1956.4913]\n",
      "1000 8633837.0 [25627.322] [1505.5038]\n",
      "1500 8632675.0 [25640.592] [1439.7867]\n",
      "2000 8632649.0 [25642.527] [1430.2057]\n",
      "2500 8632652.0 [25642.805] [1428.8225]\n",
      "3000 8632657.0 [25642.844] [1428.6338]\n",
      "3500 8632656.0 [25642.848] [1428.6133]\n",
      "4000 8632656.0 [25642.848] [1428.6133]\n",
      "4500 8632656.0 [25642.848] [1428.6133]\n",
      "5000 8632656.0 [25642.848] [1428.6133]\n",
      "[206571.39]\n"
     ]
    }
   ],
   "source": [
    "# Tensorflow 돌려보기\n",
    "xData = [1, 2, 3, 4, 5, 6, 7]\n",
    "yData = [25000, 55000, 75000, 110000, 128000, 155000, 180000]\n",
    "W = tf.Variable(tf.random_uniform([1], -100, 100))\n",
    "b = tf.Variable(tf.random_uniform([1], -100, 100))\n",
    "X = tf.placeholder(tf.float32)\n",
    "Y = tf.placeholder(tf.float32) # 결과값\n",
    "H = W * X + b # 예측값\n",
    "cost = tf.reduce_mean(tf.square(H - Y)) # 예측값 - 결과값 (두 값이 차이를 줄이는 것이 목적)\n",
    "a = tf.Variable(0.01)\n",
    "optimizer = tf.train.GradientDescentOptimizer(a)\n",
    "train = optimizer.minimize(cost)\n",
    "init = tf.global_variables_initializer()\n",
    "sess = tf.Session()\n",
    "sess.run(init)\n",
    "\n",
    "for i in range(5001):\n",
    "    sess.run(train, feed_dict={X: xData, Y: yData})\n",
    "    if i % 500 == 0:\n",
    "        print(i, sess.run(cost, feed_dict={X: xData, Y: yData}), sess.run(W), sess.run(b))\n",
    "print(sess.run(H, feed_dict={X: [8]}))"
   ]
  },
  {
   "cell_type": "code",
   "execution_count": null,
   "metadata": {},
   "outputs": [],
   "source": []
  }
 ],
 "metadata": {
  "kernelspec": {
   "display_name": "Python 3",
   "language": "python",
   "name": "python3"
  },
  "language_info": {
   "codemirror_mode": {
    "name": "ipython",
    "version": 3
   },
   "file_extension": ".py",
   "mimetype": "text/x-python",
   "name": "python",
   "nbconvert_exporter": "python",
   "pygments_lexer": "ipython3",
   "version": "3.7.7"
  }
 },
 "nbformat": 4,
 "nbformat_minor": 4
}
