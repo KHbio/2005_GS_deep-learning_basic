{
 "cells": [
  {
   "cell_type": "markdown",
   "metadata": {},
   "source": [
    "# The order of study\n",
    "1. Single input neuron\n",
    "2. Multi input neuron (Perceptron)\n",
    "3. Multi-layer perceptron (MLP)\n",
    "<img width=\"300\" src=\"https://github.com/newhong-sci/2005_GS_deep-learning_basic/blob/master/img/200518_01.PNG?raw=true\"><br>\n",
    "__4. Convolutional neural network (CNN)__"
   ]
  },
  {
   "cell_type": "markdown",
   "metadata": {},
   "source": [
    "### Youtube_'허민석'\n",
    "[YT_허민석](https://www.youtube.com/watch?v=ShaqWZx3Wzc&list=PLVNY1HnUlO24lnGmxdwTgfXkd4qhDbEkG)<br>\n",
    "\n",
    "1. [Single input neuron](https://github.com/minsuk-heo/deeplearning/blob/master/src/single_neuron_perceptron.ipynb)\n",
    "2. [MLP_XOR_Soution](https://github.com/minsuk-heo/deeplearning/blob/master/src/MLP_XOR_Soution_Tensorflow.ipynb)\n",
    "3. [MLP_MNIST](https://github.com/minsuk-heo/deeplearning/blob/master/src/MLP_MNIST_Tensorflow.ipynb)\n",
    "4. [MLP_MNIST_Early_Stopping](https://github.com/minsuk-heo/deeplearning/blob/master/src/MLP_MNIST_Tensorflow_Early_Stopping.ipynb)\n",
    "5. [MLP_MNIST_Early_Stopping_DropOut](https://github.com/minsuk-heo/deeplearning/blob/master/src/MLP_MNIST_Tensorflow_Early_Stopping_DropOut.ipynb)"
   ]
  },
  {
   "cell_type": "markdown",
   "metadata": {},
   "source": [
    "### 핸즈온머신러닝 - 13장 합성곱 신경망 (CNN)\n",
    "<img width=\"150\" src=\"https://github.com/newhong-sci/2005_GS_deep-learning_basic/blob/master/img/200518_02_HandOnML.jpg?raw=true\"><br>\n",
    "[Blog_Summary](https://blog.lockcept.kr/86)\n",
    "1. 시각 피질의 구조<br>\n",
    "2. 합성곱층<br>\n",
    "    2.1 필터<br>\n",
    "    2.2 여러 개의 특성 맵 쌓기<br>\n",
    "    2.3 텐서플로 구현<br>\n",
    "    2.4 메모리 요구사항<br>\n",
    "3. 풀링층<br>\n",
    "4. CNN구조<br>\n",
    "    4.1 LeNet-5<br>\n",
    "    4.2 AlexNet<br>\n",
    "    4.3 GoogLeNet<br>\n",
    "    4.4 ResNet"
   ]
  },
  {
   "cell_type": "markdown",
   "metadata": {},
   "source": [
    "### Blog_'Excelsior-JH'\n",
    "1. [Ch04_CNN_Intro](https://excelsior-cjh.tistory.com/152?category=940399)\n",
    "2. [CNN_Intro](https://excelsior-cjh.tistory.com/79?category=1013831)\n",
    "3. [CNN_practice](https://excelsior-cjh.tistory.com/79?category=1013831)"
   ]
  },
  {
   "cell_type": "markdown",
   "metadata": {},
   "source": [
    "### Youtube_'Hyunguk Choi_Ph.D Candidate in GIST'\n",
    "[Profile](https://sites.google.com/site/hyunguk1986/home?authuser=0)<br>\n",
    "1. [YT_Quick summay of CNNs](https://www.youtube.com/watch?v=ppbmRS5w4u0)<br>\n",
    "2. [YT_CNN_basic](https://www.youtube.com/watch?v=G0kzSRbNF6E&t=21s)"
   ]
  },
  {
   "cell_type": "code",
   "execution_count": null,
   "metadata": {},
   "outputs": [],
   "source": []
  }
 ],
 "metadata": {
  "kernelspec": {
   "display_name": "Python 3",
   "language": "python",
   "name": "python3"
  },
  "language_info": {
   "codemirror_mode": {
    "name": "ipython",
    "version": 3
   },
   "file_extension": ".py",
   "mimetype": "text/x-python",
   "name": "python",
   "nbconvert_exporter": "python",
   "pygments_lexer": "ipython3",
   "version": "3.7.7"
  }
 },
 "nbformat": 4,
 "nbformat_minor": 4
}
