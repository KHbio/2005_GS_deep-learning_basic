{
 "cells": [
  {
   "cell_type": "markdown",
   "metadata": {},
   "source": [
    "## 목표: 선형회귀를 활용한 배추 가격 예측 AI개발\n",
    "Ref: [Github_link](https://github.com/ndb796/Vegita)"
   ]
  },
  {
   "cell_type": "markdown",
   "metadata": {},
   "source": [
    "### 1강 - 프로젝트 개요\n",
    "1. Python & Tensorflow: 학습 등 모델을 저장하고 필요에 따라 불러오는 기본적인 기능 공부\n",
    "2. Flask (web server) & MD Bootstrap (Design framework)\n",
    "<img width=\"700\" src=\"https://github.com/newhong-sci/2005_GS_deep-learning_basic/blob/master/img/200515_01_System.png?raw=true\">"
   ]
  },
  {
   "cell_type": "markdown",
   "metadata": {},
   "source": [
    "### 2강 - 프로젝트 아이디어 결정 및 데이터 수집\n",
    "Ref: [Blog_link](https://ndb796.tistory.com/125?category=1013932) - file download"
   ]
  },
  {
   "cell_type": "markdown",
   "metadata": {},
   "source": [
    "###  3강 - Multi-variable linear regression"
   ]
  },
  {
   "cell_type": "code",
   "execution_count": 1,
   "metadata": {},
   "outputs": [
    {
     "name": "stdout",
     "output_type": "stream",
     "text": [
      "WARNING:tensorflow:From C:\\Python\\anaconda3\\lib\\site-packages\\tensorflow_core\\python\\compat\\v2_compat.py:88: disable_resource_variables (from tensorflow.python.ops.variable_scope) is deprecated and will be removed in a future version.\n",
      "Instructions for updating:\n",
      "non-resource variables are not supported in the long term\n"
     ]
    }
   ],
   "source": [
    "import tensorflow.compat.v1 as tf\n",
    "tf.disable_v2_behavior()\n",
    "import numpy as np\n",
    "#import pandas as pd\n",
    "from pandas.io.parsers import read_csv"
   ]
  },
  {
   "cell_type": "code",
   "execution_count": 2,
   "metadata": {},
   "outputs": [
    {
     "data": {
      "text/plain": [
       "array([[ 2.0100100e+07, -4.9000001e+00, -1.1000000e+01,  8.9999998e-01,\n",
       "         0.0000000e+00,  2.1230000e+03],\n",
       "       [ 2.0100102e+07, -3.0999999e+00, -5.5000000e+00,  5.5000000e+00,\n",
       "         8.0000001e-01,  2.1230000e+03],\n",
       "       [ 2.0100104e+07, -2.9000001e+00, -6.9000001e+00,  1.4000000e+00,\n",
       "         0.0000000e+00,  2.1230000e+03],\n",
       "       ...,\n",
       "       [ 2.0171228e+07,  2.9000001e+00, -2.0999999e+00,  8.0000000e+00,\n",
       "         0.0000000e+00,  2.9010000e+03],\n",
       "       [ 2.0171230e+07,  2.9000001e+00, -1.6000000e+00,  7.0999999e+00,\n",
       "         6.0000002e-01,  2.9010000e+03],\n",
       "       [ 2.0171232e+07,  2.0999999e+00, -2.0000000e+00,  5.8000002e+00,\n",
       "         4.0000001e-01,  2.9010000e+03]], dtype=float32)"
      ]
     },
     "execution_count": 2,
     "metadata": {},
     "output_type": "execute_result"
    }
   ],
   "source": [
    "model = tf.global_variables_initializer()\n",
    "\n",
    "data = read_csv('input_data/200515_MVR_input_price_data.csv', sep = ',')\n",
    "xy = np.array(data, dtype=np.float32)\n",
    "\n",
    "xy"
   ]
  },
  {
   "cell_type": "code",
   "execution_count": 3,
   "metadata": {},
   "outputs": [],
   "source": [
    "xData = xy[:, 1:-1]\n",
    "yData = xy[:, [-1]]"
   ]
  },
  {
   "cell_type": "code",
   "execution_count": 4,
   "metadata": {},
   "outputs": [],
   "source": [
    "X = tf.placeholder(tf.float32, shape=[None, 4])\n",
    "Y = tf.placeholder(tf.float32, shape=[None, 1])\n",
    "W = tf.Variable(tf.random_normal([4, 1]), name='weight')\n",
    "b = tf.Variable(tf.random_normal([1]), name='bias')"
   ]
  },
  {
   "cell_type": "code",
   "execution_count": 5,
   "metadata": {},
   "outputs": [],
   "source": [
    "H = tf.matmul(X, W) + b"
   ]
  },
  {
   "cell_type": "code",
   "execution_count": 6,
   "metadata": {},
   "outputs": [],
   "source": [
    "cost = tf.reduce_mean(tf.square(Y - H))"
   ]
  },
  {
   "cell_type": "code",
   "execution_count": 7,
   "metadata": {},
   "outputs": [],
   "source": [
    "optimizer = tf.train.GradientDescentOptimizer(learning_rate = 0.000005)\n",
    "train = optimizer.minimize(cost)"
   ]
  },
  {
   "cell_type": "code",
   "execution_count": 8,
   "metadata": {},
   "outputs": [],
   "source": [
    "sess = tf.Session()\n",
    "sess.run(tf.global_variables_initializer())"
   ]
  },
  {
   "cell_type": "code",
   "execution_count": 9,
   "metadata": {},
   "outputs": [
    {
     "name": "stdout",
     "output_type": "stream",
     "text": [
      "# 0  손실 비용:  12600918.0\n",
      "- 배추 가격:  [-0.07190382]\n",
      "# 5000  손실 비용:  2509758.2\n",
      "- 배추 가격:  [1582.5529]\n",
      "# 10000  손실 비용:  2298922.8\n",
      "- 배추 가격:  [2269.9426]\n",
      "# 15000  손실 비용:  2276017.2\n",
      "- 배추 가격:  [2483.4148]\n",
      "# 20000  손실 비용:  2271245.0\n",
      "- 배추 가격:  [2549.867]\n",
      "# 25000  손실 비용:  2268239.5\n",
      "- 배추 가격:  [2570.6611]\n",
      "# 30000  손실 비용:  2265421.5\n",
      "- 배추 가격:  [2577.2957]\n",
      "# 35000  손실 비용:  2262640.0\n",
      "- 배추 가격:  [2579.4983]\n",
      "# 40000  손실 비용:  2259880.5\n",
      "- 배추 가격:  [2580.4326]\n",
      "# 45000  손실 비용:  2257140.8\n",
      "- 배추 가격:  [2580.7673]\n",
      "# 50000  손실 비용:  2254422.8\n",
      "- 배추 가격:  [2581.1443]\n",
      "# 55000  손실 비용:  2251723.5\n",
      "- 배추 가격:  [2581.6145]\n",
      "# 60000  손실 비용:  2249049.5\n",
      "- 배추 가격:  [2582.0928]\n",
      "# 65000  손실 비용:  2246394.8\n",
      "- 배추 가격:  [2582.4636]\n",
      "# 70000  손실 비용:  2243748.8\n",
      "- 배추 가격:  [2582.9229]\n",
      "# 75000  손실 비용:  2241128.5\n",
      "- 배추 가격:  [2583.2078]\n",
      "# 80000  손실 비용:  2238529.5\n",
      "- 배추 가격:  [2583.371]\n",
      "# 85000  손실 비용:  2235941.2\n",
      "- 배추 가격:  [2583.475]\n",
      "# 90000  손실 비용:  2233365.2\n",
      "- 배추 가격:  [2583.7036]\n",
      "# 95000  손실 비용:  2230825.2\n",
      "- 배추 가격:  [2584.044]\n",
      "# 100000  손실 비용:  2228297.0\n",
      "- 배추 가격:  [2584.3894]\n"
     ]
    }
   ],
   "source": [
    "for step in range(100001):\n",
    "    cost_, hypo_, _ = sess.run([cost, H, train], feed_dict={X: xData, Y: yData})\n",
    "    if step % 5000 == 0:\n",
    "        print(\"#\", step, \" 손실 비용: \", cost_)\n",
    "        print(\"- 배추 가격: \", hypo_[0])"
   ]
  },
  {
   "cell_type": "code",
   "execution_count": 10,
   "metadata": {},
   "outputs": [
    {
     "name": "stdout",
     "output_type": "stream",
     "text": [
      "학습된 모델을 저장하였습니다.\n"
     ]
    }
   ],
   "source": [
    "saver = tf.train.Saver()\n",
    "save_path = saver.save(sess, 'output_data/200515_MLR_price_predction_model.cpkt')\n",
    "print(\"학습된 모델을 저장하였습니다.\")"
   ]
  },
  {
   "cell_type": "markdown",
   "metadata": {},
   "source": [
    "### 4강 - 저장된 학습 모델로 배추 가격 예측"
   ]
  },
  {
   "cell_type": "code",
   "execution_count": 2,
   "metadata": {},
   "outputs": [],
   "source": [
    "X = tf.placeholder(tf.float32, shape=[None, 4])\n",
    "Y = tf.placeholder(tf.float32, shape=[None, 1])\n",
    "W = tf.Variable(tf.random_normal([4, 1]), name='weight')\n",
    "b = tf.Variable(tf.random_normal([1]), name='bias')"
   ]
  },
  {
   "cell_type": "code",
   "execution_count": 3,
   "metadata": {},
   "outputs": [],
   "source": [
    "H = tf.matmul(X, W) + b"
   ]
  },
  {
   "cell_type": "code",
   "execution_count": 8,
   "metadata": {},
   "outputs": [],
   "source": [
    "saver = tf.train.Saver()\n",
    "model = tf.global_variables_initializer()"
   ]
  },
  {
   "cell_type": "code",
   "execution_count": 12,
   "metadata": {},
   "outputs": [
    {
     "name": "stdout",
     "output_type": "stream",
     "text": [
      "평균 온도: 15.5\n",
      "최저 온도: 3.5\n",
      "최고 온도: 20.5\n",
      "강수량: 5\n"
     ]
    }
   ],
   "source": [
    "avg_temp = float(input('평균 온도: '))\n",
    "min_temp = float(input('최저 온도: '))\n",
    "max_temp = float(input('최고 온도: '))\n",
    "rain_fall = float(input('강수량: '))"
   ]
  },
  {
   "cell_type": "code",
   "execution_count": 13,
   "metadata": {},
   "outputs": [
    {
     "name": "stdout",
     "output_type": "stream",
     "text": [
      "INFO:tensorflow:Restoring parameters from output_data/200515_MLR_price_predction_model.cpkt\n",
      "[4511.1084]\n"
     ]
    }
   ],
   "source": [
    "with tf.Session() as sess:\n",
    "    sess.run(model)\n",
    "    \n",
    "    save_path = \"output_data/200515_MLR_price_predction_model.cpkt\"\n",
    "    saver.restore(sess, save_path)\n",
    "    \n",
    "    data = ((avg_temp, min_temp, max_temp, rain_fall), ) # 2-D data\n",
    "    arr = np.array(data, dtype=np.float32)\n",
    "    x_data = arr[0:4]\n",
    "    dict = sess.run(H, feed_dict={X: x_data})\n",
    "    print(dict[0])"
   ]
  },
  {
   "cell_type": "markdown",
   "metadata": {},
   "source": [
    "### 5강 - 기초 데이터 시각화하기\n",
    "Excel에서 간단한 Viz를 통해 data의 특성 확인"
   ]
  },
  {
   "cell_type": "markdown",
   "metadata": {},
   "source": [
    "### 6강 - 플라스크 웹 서버와 디자인 구현하기\n",
    "mdbootstrap: [Site_link](https://mdbootstrapcom/freebies/)"
   ]
  },
  {
   "cell_type": "markdown",
   "metadata": {},
   "source": [
    "### 7강 - 플라스크와 텐서플로우 연동하기"
   ]
  }
 ],
 "metadata": {
  "kernelspec": {
   "display_name": "Python 3",
   "language": "python",
   "name": "python3"
  },
  "language_info": {
   "codemirror_mode": {
    "name": "ipython",
    "version": 3
   },
   "file_extension": ".py",
   "mimetype": "text/x-python",
   "name": "python",
   "nbconvert_exporter": "python",
   "pygments_lexer": "ipython3",
   "version": "3.7.7"
  }
 },
 "nbformat": 4,
 "nbformat_minor": 4
}
